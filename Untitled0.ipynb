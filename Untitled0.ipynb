{
  "nbformat": 4,
  "nbformat_minor": 0,
  "metadata": {
    "colab": {
      "name": "Untitled0.ipynb",
      "provenance": [],
      "collapsed_sections": [],
      "authorship_tag": "ABX9TyPfuLXQc216HdbIdy6WUFMQ",
      "include_colab_link": true
    },
    "kernelspec": {
      "name": "python3",
      "display_name": "Python 3"
    },
    "language_info": {
      "name": "python"
    },
    "accelerator": "GPU"
  },
  "cells": [
    {
      "cell_type": "markdown",
      "metadata": {
        "id": "view-in-github",
        "colab_type": "text"
      },
      "source": [
        "<a href=\"https://colab.research.google.com/github/rahul-negi-projects/NLP--English-to-French-Translator/blob/main/Untitled0.ipynb\" target=\"_parent\"><img src=\"https://colab.research.google.com/assets/colab-badge.svg\" alt=\"Open In Colab\"/></a>"
      ]
    },
    {
      "cell_type": "markdown",
      "metadata": {
        "id": "DNVcdLq_qDal"
      },
      "source": [
        "Character-level recurrent sequence-to-sequence model, translating English sentences to French sentences"
      ]
    },
    {
      "cell_type": "markdown",
      "metadata": {
        "id": "-6j_JnKcqtl1"
      },
      "source": [
        "https://blog.keras.io/a-ten-minute-introduction-to-sequence-to-sequence-learning-in-keras.html"
      ]
    },
    {
      "cell_type": "code",
      "metadata": {
        "colab": {
          "base_uri": "https://localhost:8080/"
        },
        "id": "5cF1bHAppl3-",
        "outputId": "246e8a8b-eb6f-4583-fdd5-e867011426f3"
      },
      "source": [
        "# Downloading the data \n",
        "!!curl -O http://www.manythings.org/anki/fra-eng.zip\n",
        "!!unzip fra-eng.zip"
      ],
      "execution_count": null,
      "outputs": [
        {
          "output_type": "execute_result",
          "data": {
            "text/plain": [
              "['Archive:  fra-eng.zip',\n",
              " '  inflating: _about.txt              ',\n",
              " '  inflating: fra.txt                 ']"
            ]
          },
          "metadata": {
            "tags": []
          },
          "execution_count": 1
        }
      ]
    },
    {
      "cell_type": "code",
      "metadata": {
        "id": "LXoKwIgAq0_r"
      },
      "source": [
        "# Importing libraries\n",
        "import numpy as np\n",
        "from tensorflow.keras.models import Model\n",
        "from tensorflow.keras.layers import Input, Dense, LSTM"
      ],
      "execution_count": null,
      "outputs": []
    },
    {
      "cell_type": "code",
      "metadata": {
        "id": "Re5a1vZ9rihY"
      },
      "source": [
        "#  configring\n",
        "batch_size = 64  \n",
        "epochs = 100  \n",
        "latent_dim = 256  \n",
        "num_samples = 10000  \n",
        "\n",
        "data_path = \"fra.txt\""
      ],
      "execution_count": null,
      "outputs": []
    },
    {
      "cell_type": "code",
      "metadata": {
        "id": "s_OnL48attde"
      },
      "source": [
        "# storing the data\n",
        "input_texts = []\n",
        "target_texts = []\n",
        "input_characters = set()\n",
        "target_characters = set()"
      ],
      "execution_count": null,
      "outputs": []
    },
    {
      "cell_type": "code",
      "metadata": {
        "id": "llaOamM6ugq1"
      },
      "source": [
        "#appending data \n",
        "with open(data_path, \"r\", encoding=\"utf-8\") as f:\n",
        "    lines = f.read().split(\"\\n\")\n",
        "\n",
        "for line in lines[:min(num_samples, len(lines))]:\n",
        "  input_text, target_text, _ = line.split(\"\\t\")\n",
        "  target_text = \"\\t\" + target_text + \"\\n\" # to know the end of sentense \n",
        "  input_texts.append(input_text)\n",
        "  target_texts.append(target_text)\n",
        "\n",
        "  for char in input_text:\n",
        "    if char not in input_characters:\n",
        "      input_characters.add(char)\n",
        "\n",
        "  for char in target_text:\n",
        "    if char not in target_characters:\n",
        "      target_characters.add(char)"
      ],
      "execution_count": null,
      "outputs": []
    },
    {
      "cell_type": "code",
      "metadata": {
        "colab": {
          "base_uri": "https://localhost:8080/"
        },
        "id": "gHXRbC23uvNq",
        "outputId": "391a71ce-6059-4ac8-fd93-9858496f7130"
      },
      "source": [
        "# checking the number of charactes\n",
        "input_characters = sorted(list(input_characters))\n",
        "target_characters = sorted(list(target_characters))\n",
        "num_encoder_tokens = len(input_characters)\n",
        "num_decoder_tokens = len(target_characters)\n",
        "max_encoder_seq_length = max([len(txt) for txt in input_texts])\n",
        "max_decoder_seq_length = max([len(txt) for txt in target_texts])\n",
        "\n",
        "print(\"Number of samples:\", len(input_texts))\n",
        "print(\"Number of unique input tokens:\", num_encoder_tokens)\n",
        "print(\"Number of unique output tokens:\", num_decoder_tokens)\n",
        "print(\"Max sequence length for inputs:\", max_encoder_seq_length)\n",
        "print(\"Max sequence length for outputs:\", max_decoder_seq_length)"
      ],
      "execution_count": null,
      "outputs": [
        {
          "output_type": "stream",
          "text": [
            "Number of samples: 10000\n",
            "Number of unique input tokens: 71\n",
            "Number of unique output tokens: 93\n",
            "Max sequence length for inputs: 15\n",
            "Max sequence length for outputs: 59\n"
          ],
          "name": "stdout"
        }
      ]
    },
    {
      "cell_type": "code",
      "metadata": {
        "id": "z2kI2U6rwv7F"
      },
      "source": [
        "input_token_index = dict([(char,i) for i, char in enumerate(input_characters)])\n",
        "target_token_index = dict([(char,i) for i, char in enumerate(target_characters)])"
      ],
      "execution_count": null,
      "outputs": []
    },
    {
      "cell_type": "code",
      "metadata": {
        "id": "4MKI-aIVF9_G"
      },
      "source": [
        "# creating encoding matrix\n",
        "encoder_input_data = np.zeros((len(input_texts), max_encoder_seq_length, num_encoder_tokens), dtype=\"float32\")\n",
        "\n",
        "decoder_input_data = np.zeros((len(input_texts), max_decoder_seq_length, num_decoder_tokens), dtype=\"float32\")\n",
        "\n",
        "decoder_target_data = np.zeros((len(input_texts), max_decoder_seq_length, num_decoder_tokens), dtype=\"float32\")"
      ],
      "execution_count": null,
      "outputs": []
    },
    {
      "cell_type": "code",
      "metadata": {
        "id": "0svQXMGW2zeO"
      },
      "source": [
        "# encoding the words for training data\n",
        "for i, (input_text, target_text) in enumerate(zip(input_texts, target_texts)):\n",
        "\n",
        "    for t, char in enumerate(input_text):\n",
        "        encoder_input_data[i, t, input_token_index[char]] = 1.0\n",
        "    encoder_input_data[i, t + 1 :, input_token_index[\" \"]] = 1.0\n",
        "\n",
        "    for t, char in enumerate(target_text):\n",
        "        decoder_input_data[i, t, target_token_index[char]] = 1.0\n",
        "        if t > 0:\n",
        "            decoder_target_data[i, t - 1, target_token_index[char]] = 1.0\n",
        "    decoder_input_data[i, t + 1 :, target_token_index[\" \"]] = 1.0\n",
        "    decoder_target_data[i, t:, target_token_index[\" \"]] = 1.0"
      ],
      "execution_count": null,
      "outputs": []
    },
    {
      "cell_type": "code",
      "metadata": {
        "colab": {
          "base_uri": "https://localhost:8080/"
        },
        "id": "apwMPYPi2yop",
        "outputId": "2c36c107-0f57-4ef2-b729-cc9bb9a97cf8"
      },
      "source": [
        "# shape of encoder\n",
        "encoder_input_data[0].shape"
      ],
      "execution_count": null,
      "outputs": [
        {
          "output_type": "execute_result",
          "data": {
            "text/plain": [
              "(15, 71)"
            ]
          },
          "metadata": {
            "tags": []
          },
          "execution_count": 10
        }
      ]
    },
    {
      "cell_type": "markdown",
      "metadata": {
        "id": "s-2tSWciaUeK"
      },
      "source": [
        "Building the model"
      ]
    },
    {
      "cell_type": "code",
      "metadata": {
        "id": "Bc1JgZxZOJip"
      },
      "source": [
        "# Encoder\n",
        "encoder_inputs = Input(shape=(None, num_encoder_tokens))\n",
        "encoder = LSTM(latent_dim, return_state=True)\n",
        "\n",
        "encoder_outputs, state_h, state_c = encoder(encoder_inputs)\n",
        "# we dont want encoder outputs in LSTM\n",
        "encoder_states = [state_h, state_c] #hidden cells and cell state"
      ],
      "execution_count": null,
      "outputs": []
    },
    {
      "cell_type": "code",
      "metadata": {
        "id": "k3lZ5HWyDOD2"
      },
      "source": [
        "# Decoder\n",
        "decoder_inputs = Input(shape=(None, num_decoder_tokens))\n",
        "decoder_lstm = LSTM(latent_dim, return_sequences=True, return_state=True)\n",
        "decoder_outputs, _, _ = decoder_lstm(decoder_inputs, initial_state=encoder_states)\n",
        "# here we want only decoder outputs\n",
        "\n",
        "decoder_dense = Dense(num_decoder_tokens, activation=\"softmax\")\n",
        "decoder_outputs = decoder_dense(decoder_outputs)"
      ],
      "execution_count": null,
      "outputs": []
    },
    {
      "cell_type": "code",
      "metadata": {
        "colab": {
          "base_uri": "https://localhost:8080/"
        },
        "id": "dnY6ZoWbM1tG",
        "outputId": "97845e56-ae56-4e18-95cf-685c34093093"
      },
      "source": [
        "# Creating the model\n",
        "model = Model([encoder_inputs, decoder_inputs], decoder_outputs)\n",
        "\n",
        "# Run training\n",
        "model.compile(optimizer=\"rmsprop\", loss=\"categorical_crossentropy\", metrics=['accuracy'])\n",
        "\n",
        "model.fit([encoder_input_data, decoder_input_data],decoder_target_data,\n",
        "    batch_size=batch_size,\n",
        "    epochs=epochs,\n",
        "    validation_split=0.2)\n",
        "model.save(\"s2s\")"
      ],
      "execution_count": null,
      "outputs": [
        {
          "output_type": "stream",
          "text": [
            "Epoch 1/100\n",
            "125/125 [==============================] - 13s 43ms/step - loss: 1.1424 - accuracy: 0.7350 - val_loss: 1.0203 - val_accuracy: 0.7185\n",
            "Epoch 2/100\n",
            "125/125 [==============================] - 4s 34ms/step - loss: 0.8084 - accuracy: 0.7800 - val_loss: 0.8086 - val_accuracy: 0.7719\n",
            "Epoch 3/100\n",
            "125/125 [==============================] - 4s 34ms/step - loss: 0.6501 - accuracy: 0.8167 - val_loss: 0.6952 - val_accuracy: 0.8002\n",
            "Epoch 4/100\n",
            "125/125 [==============================] - 4s 34ms/step - loss: 0.5678 - accuracy: 0.8352 - val_loss: 0.6317 - val_accuracy: 0.8165\n",
            "Epoch 5/100\n",
            "125/125 [==============================] - 4s 34ms/step - loss: 0.5229 - accuracy: 0.8471 - val_loss: 0.5944 - val_accuracy: 0.8262\n",
            "Epoch 6/100\n",
            "125/125 [==============================] - 4s 34ms/step - loss: 0.4889 - accuracy: 0.8565 - val_loss: 0.5564 - val_accuracy: 0.8368\n",
            "Epoch 7/100\n",
            "125/125 [==============================] - 4s 34ms/step - loss: 0.4615 - accuracy: 0.8635 - val_loss: 0.5389 - val_accuracy: 0.8416\n",
            "Epoch 8/100\n",
            "125/125 [==============================] - 4s 34ms/step - loss: 0.4391 - accuracy: 0.8693 - val_loss: 0.5199 - val_accuracy: 0.8459\n",
            "Epoch 9/100\n",
            "125/125 [==============================] - 4s 34ms/step - loss: 0.4190 - accuracy: 0.8752 - val_loss: 0.5096 - val_accuracy: 0.8497\n",
            "Epoch 10/100\n",
            "125/125 [==============================] - 4s 34ms/step - loss: 0.4009 - accuracy: 0.8799 - val_loss: 0.4955 - val_accuracy: 0.8552\n",
            "Epoch 11/100\n",
            "125/125 [==============================] - 4s 34ms/step - loss: 0.3837 - accuracy: 0.8845 - val_loss: 0.4810 - val_accuracy: 0.8578\n",
            "Epoch 12/100\n",
            "125/125 [==============================] - 4s 34ms/step - loss: 0.3683 - accuracy: 0.8891 - val_loss: 0.4765 - val_accuracy: 0.8609\n",
            "Epoch 13/100\n",
            "125/125 [==============================] - 4s 34ms/step - loss: 0.3532 - accuracy: 0.8939 - val_loss: 0.4704 - val_accuracy: 0.8622\n",
            "Epoch 14/100\n",
            "125/125 [==============================] - 4s 34ms/step - loss: 0.3396 - accuracy: 0.8978 - val_loss: 0.4592 - val_accuracy: 0.8653\n",
            "Epoch 15/100\n",
            "125/125 [==============================] - 4s 34ms/step - loss: 0.3267 - accuracy: 0.9015 - val_loss: 0.4550 - val_accuracy: 0.8671\n",
            "Epoch 16/100\n",
            "125/125 [==============================] - 4s 34ms/step - loss: 0.3140 - accuracy: 0.9052 - val_loss: 0.4551 - val_accuracy: 0.8672\n",
            "Epoch 17/100\n",
            "125/125 [==============================] - 4s 34ms/step - loss: 0.3020 - accuracy: 0.9089 - val_loss: 0.4514 - val_accuracy: 0.8680\n",
            "Epoch 18/100\n",
            "125/125 [==============================] - 4s 34ms/step - loss: 0.2906 - accuracy: 0.9123 - val_loss: 0.4496 - val_accuracy: 0.8697\n",
            "Epoch 19/100\n",
            "125/125 [==============================] - 4s 34ms/step - loss: 0.2800 - accuracy: 0.9157 - val_loss: 0.4487 - val_accuracy: 0.8706\n",
            "Epoch 20/100\n",
            "125/125 [==============================] - 4s 34ms/step - loss: 0.2700 - accuracy: 0.9183 - val_loss: 0.4507 - val_accuracy: 0.8719\n",
            "Epoch 21/100\n",
            "125/125 [==============================] - 4s 34ms/step - loss: 0.2603 - accuracy: 0.9212 - val_loss: 0.4461 - val_accuracy: 0.8729\n",
            "Epoch 22/100\n",
            "125/125 [==============================] - 4s 34ms/step - loss: 0.2507 - accuracy: 0.9241 - val_loss: 0.4509 - val_accuracy: 0.8730\n",
            "Epoch 23/100\n",
            "125/125 [==============================] - 4s 34ms/step - loss: 0.2415 - accuracy: 0.9267 - val_loss: 0.4496 - val_accuracy: 0.8748\n",
            "Epoch 24/100\n",
            "125/125 [==============================] - 4s 34ms/step - loss: 0.2333 - accuracy: 0.9294 - val_loss: 0.4518 - val_accuracy: 0.8741\n",
            "Epoch 25/100\n",
            "125/125 [==============================] - 4s 34ms/step - loss: 0.2245 - accuracy: 0.9320 - val_loss: 0.4530 - val_accuracy: 0.8741\n",
            "Epoch 26/100\n",
            "125/125 [==============================] - 4s 34ms/step - loss: 0.2172 - accuracy: 0.9341 - val_loss: 0.4598 - val_accuracy: 0.8743\n",
            "Epoch 27/100\n",
            "125/125 [==============================] - 4s 34ms/step - loss: 0.2098 - accuracy: 0.9362 - val_loss: 0.4569 - val_accuracy: 0.8753\n",
            "Epoch 28/100\n",
            "125/125 [==============================] - 4s 34ms/step - loss: 0.2022 - accuracy: 0.9385 - val_loss: 0.4638 - val_accuracy: 0.8748\n",
            "Epoch 29/100\n",
            "125/125 [==============================] - 4s 34ms/step - loss: 0.1958 - accuracy: 0.9404 - val_loss: 0.4631 - val_accuracy: 0.8752\n",
            "Epoch 30/100\n",
            "125/125 [==============================] - 4s 34ms/step - loss: 0.1889 - accuracy: 0.9420 - val_loss: 0.4704 - val_accuracy: 0.8754\n",
            "Epoch 31/100\n",
            "125/125 [==============================] - 4s 34ms/step - loss: 0.1826 - accuracy: 0.9446 - val_loss: 0.4736 - val_accuracy: 0.8755\n",
            "Epoch 32/100\n",
            "125/125 [==============================] - 4s 34ms/step - loss: 0.1768 - accuracy: 0.9461 - val_loss: 0.4802 - val_accuracy: 0.8746\n",
            "Epoch 33/100\n",
            "125/125 [==============================] - 4s 34ms/step - loss: 0.1709 - accuracy: 0.9477 - val_loss: 0.4851 - val_accuracy: 0.8744\n",
            "Epoch 34/100\n",
            "125/125 [==============================] - 4s 34ms/step - loss: 0.1654 - accuracy: 0.9496 - val_loss: 0.4876 - val_accuracy: 0.8753\n",
            "Epoch 35/100\n",
            "125/125 [==============================] - 4s 34ms/step - loss: 0.1600 - accuracy: 0.9510 - val_loss: 0.4924 - val_accuracy: 0.8741\n",
            "Epoch 36/100\n",
            "125/125 [==============================] - 4s 34ms/step - loss: 0.1548 - accuracy: 0.9525 - val_loss: 0.4940 - val_accuracy: 0.8753\n",
            "Epoch 37/100\n",
            "125/125 [==============================] - 4s 34ms/step - loss: 0.1504 - accuracy: 0.9537 - val_loss: 0.4969 - val_accuracy: 0.8754\n",
            "Epoch 38/100\n",
            "125/125 [==============================] - 4s 34ms/step - loss: 0.1458 - accuracy: 0.9551 - val_loss: 0.5044 - val_accuracy: 0.8746\n",
            "Epoch 39/100\n",
            "125/125 [==============================] - 4s 34ms/step - loss: 0.1410 - accuracy: 0.9569 - val_loss: 0.5113 - val_accuracy: 0.8743\n",
            "Epoch 40/100\n",
            "125/125 [==============================] - 4s 34ms/step - loss: 0.1368 - accuracy: 0.9581 - val_loss: 0.5177 - val_accuracy: 0.8753\n",
            "Epoch 41/100\n",
            "125/125 [==============================] - 4s 34ms/step - loss: 0.1326 - accuracy: 0.9591 - val_loss: 0.5207 - val_accuracy: 0.8757\n",
            "Epoch 42/100\n",
            "125/125 [==============================] - 4s 33ms/step - loss: 0.1286 - accuracy: 0.9603 - val_loss: 0.5272 - val_accuracy: 0.8745\n",
            "Epoch 43/100\n",
            "125/125 [==============================] - 4s 34ms/step - loss: 0.1251 - accuracy: 0.9613 - val_loss: 0.5318 - val_accuracy: 0.8742\n",
            "Epoch 44/100\n",
            "125/125 [==============================] - 4s 34ms/step - loss: 0.1215 - accuracy: 0.9625 - val_loss: 0.5349 - val_accuracy: 0.8736\n",
            "Epoch 45/100\n",
            "125/125 [==============================] - 4s 34ms/step - loss: 0.1178 - accuracy: 0.9634 - val_loss: 0.5378 - val_accuracy: 0.8743\n",
            "Epoch 46/100\n",
            "125/125 [==============================] - 4s 34ms/step - loss: 0.1147 - accuracy: 0.9646 - val_loss: 0.5445 - val_accuracy: 0.8747\n",
            "Epoch 47/100\n",
            "125/125 [==============================] - 4s 34ms/step - loss: 0.1115 - accuracy: 0.9653 - val_loss: 0.5511 - val_accuracy: 0.8739\n",
            "Epoch 48/100\n",
            "125/125 [==============================] - 4s 34ms/step - loss: 0.1086 - accuracy: 0.9665 - val_loss: 0.5579 - val_accuracy: 0.8744\n",
            "Epoch 49/100\n",
            "125/125 [==============================] - 4s 34ms/step - loss: 0.1055 - accuracy: 0.9670 - val_loss: 0.5586 - val_accuracy: 0.8749\n",
            "Epoch 50/100\n",
            "125/125 [==============================] - 4s 34ms/step - loss: 0.1025 - accuracy: 0.9681 - val_loss: 0.5680 - val_accuracy: 0.8744\n",
            "Epoch 51/100\n",
            "125/125 [==============================] - 4s 34ms/step - loss: 0.1001 - accuracy: 0.9689 - val_loss: 0.5732 - val_accuracy: 0.8728\n",
            "Epoch 52/100\n",
            "125/125 [==============================] - 4s 34ms/step - loss: 0.0975 - accuracy: 0.9692 - val_loss: 0.5754 - val_accuracy: 0.8739\n",
            "Epoch 53/100\n",
            "125/125 [==============================] - 4s 34ms/step - loss: 0.0948 - accuracy: 0.9702 - val_loss: 0.5806 - val_accuracy: 0.8748\n",
            "Epoch 54/100\n",
            "125/125 [==============================] - 4s 34ms/step - loss: 0.0927 - accuracy: 0.9709 - val_loss: 0.5843 - val_accuracy: 0.8738\n",
            "Epoch 55/100\n",
            "125/125 [==============================] - 4s 34ms/step - loss: 0.0902 - accuracy: 0.9715 - val_loss: 0.5903 - val_accuracy: 0.8739\n",
            "Epoch 56/100\n",
            "125/125 [==============================] - 4s 34ms/step - loss: 0.0882 - accuracy: 0.9720 - val_loss: 0.5975 - val_accuracy: 0.8739\n",
            "Epoch 57/100\n",
            "125/125 [==============================] - 4s 34ms/step - loss: 0.0865 - accuracy: 0.9727 - val_loss: 0.6001 - val_accuracy: 0.8740\n",
            "Epoch 58/100\n",
            "125/125 [==============================] - 4s 34ms/step - loss: 0.0840 - accuracy: 0.9734 - val_loss: 0.6077 - val_accuracy: 0.8727\n",
            "Epoch 59/100\n",
            "125/125 [==============================] - 4s 34ms/step - loss: 0.0820 - accuracy: 0.9741 - val_loss: 0.6113 - val_accuracy: 0.8742\n",
            "Epoch 60/100\n",
            "125/125 [==============================] - 4s 34ms/step - loss: 0.0800 - accuracy: 0.9744 - val_loss: 0.6173 - val_accuracy: 0.8722\n",
            "Epoch 61/100\n",
            "125/125 [==============================] - 4s 34ms/step - loss: 0.0784 - accuracy: 0.9747 - val_loss: 0.6235 - val_accuracy: 0.8726\n",
            "Epoch 62/100\n",
            "125/125 [==============================] - 4s 34ms/step - loss: 0.0764 - accuracy: 0.9753 - val_loss: 0.6336 - val_accuracy: 0.8723\n",
            "Epoch 63/100\n",
            "125/125 [==============================] - 4s 34ms/step - loss: 0.0748 - accuracy: 0.9762 - val_loss: 0.6350 - val_accuracy: 0.8731\n",
            "Epoch 64/100\n",
            "125/125 [==============================] - 4s 34ms/step - loss: 0.0732 - accuracy: 0.9765 - val_loss: 0.6365 - val_accuracy: 0.8725\n",
            "Epoch 65/100\n",
            "125/125 [==============================] - 4s 34ms/step - loss: 0.0717 - accuracy: 0.9767 - val_loss: 0.6386 - val_accuracy: 0.8733\n",
            "Epoch 66/100\n",
            "125/125 [==============================] - 4s 34ms/step - loss: 0.0702 - accuracy: 0.9772 - val_loss: 0.6455 - val_accuracy: 0.8727\n",
            "Epoch 67/100\n",
            "125/125 [==============================] - 4s 34ms/step - loss: 0.0692 - accuracy: 0.9773 - val_loss: 0.6467 - val_accuracy: 0.8727\n",
            "Epoch 68/100\n",
            "125/125 [==============================] - 4s 34ms/step - loss: 0.0672 - accuracy: 0.9781 - val_loss: 0.6566 - val_accuracy: 0.8720\n",
            "Epoch 69/100\n",
            "125/125 [==============================] - 4s 34ms/step - loss: 0.0660 - accuracy: 0.9785 - val_loss: 0.6590 - val_accuracy: 0.8716\n",
            "Epoch 70/100\n",
            "125/125 [==============================] - 4s 34ms/step - loss: 0.0650 - accuracy: 0.9787 - val_loss: 0.6602 - val_accuracy: 0.8721\n",
            "Epoch 71/100\n",
            "125/125 [==============================] - 4s 34ms/step - loss: 0.0633 - accuracy: 0.9789 - val_loss: 0.6680 - val_accuracy: 0.8717\n",
            "Epoch 72/100\n",
            "125/125 [==============================] - 4s 34ms/step - loss: 0.0622 - accuracy: 0.9795 - val_loss: 0.6742 - val_accuracy: 0.8714\n",
            "Epoch 73/100\n",
            "125/125 [==============================] - 4s 34ms/step - loss: 0.0610 - accuracy: 0.9798 - val_loss: 0.6747 - val_accuracy: 0.8711\n",
            "Epoch 74/100\n",
            "125/125 [==============================] - 4s 34ms/step - loss: 0.0602 - accuracy: 0.9801 - val_loss: 0.6808 - val_accuracy: 0.8729\n",
            "Epoch 75/100\n",
            "125/125 [==============================] - 4s 34ms/step - loss: 0.0590 - accuracy: 0.9804 - val_loss: 0.6852 - val_accuracy: 0.8716\n",
            "Epoch 76/100\n",
            "125/125 [==============================] - 4s 34ms/step - loss: 0.0577 - accuracy: 0.9807 - val_loss: 0.6888 - val_accuracy: 0.8727\n",
            "Epoch 77/100\n",
            "125/125 [==============================] - 4s 34ms/step - loss: 0.0569 - accuracy: 0.9809 - val_loss: 0.6916 - val_accuracy: 0.8724\n",
            "Epoch 78/100\n",
            "125/125 [==============================] - 4s 34ms/step - loss: 0.0559 - accuracy: 0.9812 - val_loss: 0.6983 - val_accuracy: 0.8709\n",
            "Epoch 79/100\n",
            "125/125 [==============================] - 4s 34ms/step - loss: 0.0549 - accuracy: 0.9813 - val_loss: 0.7031 - val_accuracy: 0.8712\n",
            "Epoch 80/100\n",
            "125/125 [==============================] - 4s 34ms/step - loss: 0.0534 - accuracy: 0.9818 - val_loss: 0.7048 - val_accuracy: 0.8712\n",
            "Epoch 81/100\n",
            "125/125 [==============================] - 4s 34ms/step - loss: 0.0532 - accuracy: 0.9819 - val_loss: 0.7092 - val_accuracy: 0.8714\n",
            "Epoch 82/100\n",
            "125/125 [==============================] - 4s 34ms/step - loss: 0.0521 - accuracy: 0.9822 - val_loss: 0.7093 - val_accuracy: 0.8720\n",
            "Epoch 83/100\n",
            "125/125 [==============================] - 4s 34ms/step - loss: 0.0514 - accuracy: 0.9825 - val_loss: 0.7154 - val_accuracy: 0.8710\n",
            "Epoch 84/100\n",
            "125/125 [==============================] - 4s 34ms/step - loss: 0.0509 - accuracy: 0.9826 - val_loss: 0.7176 - val_accuracy: 0.8720\n",
            "Epoch 85/100\n",
            "125/125 [==============================] - 4s 34ms/step - loss: 0.0499 - accuracy: 0.9829 - val_loss: 0.7267 - val_accuracy: 0.8703\n",
            "Epoch 86/100\n",
            "125/125 [==============================] - 4s 34ms/step - loss: 0.0489 - accuracy: 0.9831 - val_loss: 0.7221 - val_accuracy: 0.8714\n",
            "Epoch 87/100\n",
            "125/125 [==============================] - 4s 34ms/step - loss: 0.0485 - accuracy: 0.9832 - val_loss: 0.7324 - val_accuracy: 0.8700\n",
            "Epoch 88/100\n",
            "125/125 [==============================] - 4s 35ms/step - loss: 0.0479 - accuracy: 0.9834 - val_loss: 0.7290 - val_accuracy: 0.8714\n",
            "Epoch 89/100\n",
            "125/125 [==============================] - 4s 34ms/step - loss: 0.0474 - accuracy: 0.9835 - val_loss: 0.7319 - val_accuracy: 0.8714\n",
            "Epoch 90/100\n",
            "125/125 [==============================] - 4s 34ms/step - loss: 0.0464 - accuracy: 0.9837 - val_loss: 0.7395 - val_accuracy: 0.8696\n",
            "Epoch 91/100\n",
            "125/125 [==============================] - 4s 34ms/step - loss: 0.0461 - accuracy: 0.9836 - val_loss: 0.7365 - val_accuracy: 0.8716\n",
            "Epoch 92/100\n",
            "125/125 [==============================] - 4s 35ms/step - loss: 0.0453 - accuracy: 0.9840 - val_loss: 0.7411 - val_accuracy: 0.8715\n",
            "Epoch 93/100\n",
            "125/125 [==============================] - 4s 34ms/step - loss: 0.0448 - accuracy: 0.9842 - val_loss: 0.7464 - val_accuracy: 0.8709\n",
            "Epoch 94/100\n",
            "125/125 [==============================] - 4s 34ms/step - loss: 0.0444 - accuracy: 0.9842 - val_loss: 0.7438 - val_accuracy: 0.8717\n",
            "Epoch 95/100\n",
            "125/125 [==============================] - 4s 34ms/step - loss: 0.0437 - accuracy: 0.9845 - val_loss: 0.7473 - val_accuracy: 0.8709\n",
            "Epoch 96/100\n",
            "125/125 [==============================] - 4s 34ms/step - loss: 0.0436 - accuracy: 0.9844 - val_loss: 0.7570 - val_accuracy: 0.8710\n",
            "Epoch 97/100\n",
            "125/125 [==============================] - 4s 35ms/step - loss: 0.0428 - accuracy: 0.9846 - val_loss: 0.7533 - val_accuracy: 0.8715\n",
            "Epoch 98/100\n",
            "125/125 [==============================] - 4s 34ms/step - loss: 0.0426 - accuracy: 0.9847 - val_loss: 0.7565 - val_accuracy: 0.8707\n",
            "Epoch 99/100\n",
            "125/125 [==============================] - 4s 34ms/step - loss: 0.0420 - accuracy: 0.9850 - val_loss: 0.7617 - val_accuracy: 0.8705\n",
            "Epoch 100/100\n",
            "125/125 [==============================] - 4s 35ms/step - loss: 0.0417 - accuracy: 0.9848 - val_loss: 0.7603 - val_accuracy: 0.8716\n"
          ],
          "name": "stdout"
        },
        {
          "output_type": "stream",
          "text": [
            "WARNING:absl:Found untraced functions such as lstm_cell_layer_call_and_return_conditional_losses, lstm_cell_layer_call_fn, lstm_cell_1_layer_call_and_return_conditional_losses, lstm_cell_1_layer_call_fn, lstm_cell_layer_call_fn while saving (showing 5 of 10). These functions will not be directly callable after loading.\n"
          ],
          "name": "stderr"
        },
        {
          "output_type": "stream",
          "text": [
            "INFO:tensorflow:Assets written to: s2s/assets\n"
          ],
          "name": "stdout"
        },
        {
          "output_type": "stream",
          "text": [
            "INFO:tensorflow:Assets written to: s2s/assets\n"
          ],
          "name": "stderr"
        }
      ]
    },
    {
      "cell_type": "code",
      "metadata": {
        "id": "PVJnwyUBDlWF"
      },
      "source": [
        "# Constructing encoder and decoder\n",
        "encoder_inputs = model.input[0]  # input_1\n",
        "encoder_outputs, state_h_enc, state_c_enc = model.layers[2].output  # lstm_1\n",
        "encoder_states = [state_h_enc, state_c_enc]\n",
        "encoder_model = Model(encoder_inputs, encoder_states)\n",
        "\n",
        "decoder_inputs = model.input[1]  # input_2\n",
        "decoder_state_input_h = Input(shape=(latent_dim,), name=\"input_3\")\n",
        "decoder_state_input_c = Input(shape=(latent_dim,), name=\"input_4\")\n",
        "decoder_states_inputs = [decoder_state_input_h, decoder_state_input_c]\n",
        "decoder_lstm = model.layers[3]\n",
        "decoder_outputs, state_h_dec, state_c_dec = decoder_lstm(\n",
        "    decoder_inputs, initial_state=decoder_states_inputs\n",
        ")\n",
        "\n",
        "decoder_states = [state_h_dec, state_c_dec]\n",
        "decoder_dense = model.layers[4]\n",
        "decoder_outputs = decoder_dense(decoder_outputs)\n",
        "decoder_model = Model(\n",
        "    [decoder_inputs] + decoder_states_inputs, [decoder_outputs] + decoder_states\n",
        ")"
      ],
      "execution_count": null,
      "outputs": []
    },
    {
      "cell_type": "code",
      "metadata": {
        "id": "uky9NWKTNDTU"
      },
      "source": [
        "reverse_input_char_index = dict((i, char) for char, i in input_token_index.items())\n",
        "reverse_target_char_index = dict((i, char) for char, i in target_token_index.items())"
      ],
      "execution_count": null,
      "outputs": []
    },
    {
      "cell_type": "code",
      "metadata": {
        "id": "Za3M0DnTsU9P"
      },
      "source": [
        "def decode_sequence(input_seq):\n",
        "    # Encode the input as state vectors.\n",
        "    states_value = encoder_model.predict(input_seq)\n",
        "\n",
        "    # Generate empty target sequence of length 1.\n",
        "    target_seq = np.zeros((1, 1, num_decoder_tokens))\n",
        "    # Populate the first character of target sequence with the start character.\n",
        "    target_seq[0, 0, target_token_index[\"\\t\"]] = 1.0\n",
        "\n",
        "    # Sampling loop for a batch of sequences\n",
        "    # (to simplify, here we assume a batch of size 1).\n",
        "    stop_condition = False\n",
        "    decoded_sentence = \"\"\n",
        "    while not stop_condition:\n",
        "        output_tokens, h, c = decoder_model.predict([target_seq] + states_value)\n",
        "\n",
        "        # Sample a token\n",
        "        sampled_token_index = np.argmax(output_tokens[0, -1, :])\n",
        "        sampled_char = reverse_target_char_index[sampled_token_index]\n",
        "        decoded_sentence += sampled_char\n",
        "\n",
        "        # Exit condition: either hit max length\n",
        "        # or find stop character.\n",
        "        if sampled_char == \"\\n\" or len(decoded_sentence) > max_decoder_seq_length:\n",
        "            stop_condition = True\n",
        "\n",
        "        # Update the target sequence (of length 1).\n",
        "        target_seq = np.zeros((1, 1, num_decoder_tokens))\n",
        "        target_seq[0, 0, sampled_token_index] = 1.0\n",
        "\n",
        "        # Update states\n",
        "        states_value = [h, c]\n",
        "    return decoded_sentence"
      ],
      "execution_count": null,
      "outputs": []
    },
    {
      "cell_type": "code",
      "metadata": {
        "colab": {
          "base_uri": "https://localhost:8080/"
        },
        "id": "Pt5vmKFAzjtZ",
        "outputId": "c7cd1799-af20-407a-9a17-98c3ec7d9fe2"
      },
      "source": [
        "for seq_index in range(20):\n",
        "    # Take one sequence (part of the training set)\n",
        "    # for trying out decoding.\n",
        "    input_seq = encoder_input_data[seq_index : seq_index + 1]\n",
        "    decoded_sentence = decode_sequence(input_seq)\n",
        "    print(\"-\")\n",
        "    print(\"Input sentence:\", input_texts[seq_index])\n",
        "    print(\"Decoded sentence:\", decoded_sentence)"
      ],
      "execution_count": null,
      "outputs": [
        {
          "output_type": "stream",
          "text": [
            "-\n",
            "Input sentence: Go.\n",
            "Decoded sentence: Bouge !\n",
            "\n",
            "-\n",
            "Input sentence: Go.\n",
            "Decoded sentence: Bouge !\n",
            "\n",
            "-\n",
            "Input sentence: Go.\n",
            "Decoded sentence: Bouge !\n",
            "\n",
            "-\n",
            "Input sentence: Hi.\n",
            "Decoded sentence: Salut !\n",
            "\n",
            "-\n",
            "Input sentence: Hi.\n",
            "Decoded sentence: Salut !\n",
            "\n",
            "-\n",
            "Input sentence: Run!\n",
            "Decoded sentence: Fuyons !\n",
            "\n",
            "-\n",
            "Input sentence: Run!\n",
            "Decoded sentence: Fuyons !\n",
            "\n",
            "-\n",
            "Input sentence: Run!\n",
            "Decoded sentence: Fuyons !\n",
            "\n",
            "-\n",
            "Input sentence: Run!\n",
            "Decoded sentence: Fuyons !\n",
            "\n",
            "-\n",
            "Input sentence: Run!\n",
            "Decoded sentence: Fuyons !\n",
            "\n",
            "-\n",
            "Input sentence: Run!\n",
            "Decoded sentence: Fuyons !\n",
            "\n",
            "-\n",
            "Input sentence: Run!\n",
            "Decoded sentence: Fuyons !\n",
            "\n",
            "-\n",
            "Input sentence: Run!\n",
            "Decoded sentence: Fuyons !\n",
            "\n",
            "-\n",
            "Input sentence: Run.\n",
            "Decoded sentence: Fuyons !\n",
            "\n",
            "-\n",
            "Input sentence: Run.\n",
            "Decoded sentence: Fuyons !\n",
            "\n",
            "-\n",
            "Input sentence: Run.\n",
            "Decoded sentence: Fuyons !\n",
            "\n",
            "-\n",
            "Input sentence: Run.\n",
            "Decoded sentence: Fuyons !\n",
            "\n",
            "-\n",
            "Input sentence: Run.\n",
            "Decoded sentence: Fuyons !\n",
            "\n",
            "-\n",
            "Input sentence: Run.\n",
            "Decoded sentence: Fuyons !\n",
            "\n",
            "-\n",
            "Input sentence: Run.\n",
            "Decoded sentence: Fuyons !\n",
            "\n"
          ],
          "name": "stdout"
        }
      ]
    }
  ]
}